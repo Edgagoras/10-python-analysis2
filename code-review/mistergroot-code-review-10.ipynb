{
 "cells": [
  {
   "cell_type": "markdown",
   "metadata": {},
   "source": [
    "## Code Review of jessicahoch (no code submission available from Wenyi909)"
   ]
  },
  {
   "cell_type": "markdown",
   "metadata": {},
   "source": [
    "### What method did they use to generate data? What types of distributions did they sample data from? What type of data do these distributions generate?\n",
    "\n",
    "Jess fixed a random seed and generated random data by concatenating two sets of data, each from a Poisson distribution. Jess had 25 years of data with 15 datapoints from a Poisson dist. with a mean of 5.0 and 10 datapoints from a Poisson dist. with a mean of 1.0."
   ]
  },
  {
   "cell_type": "markdown",
   "metadata": {},
   "source": [
    "### What type of model did they try to fit with pymc3? Did they link to the tutorial that their analysis is based on. Which parameters of the model are they trying to fit.\n",
    "\n",
    "The model that is used is a Bayesian model with variables that follow a Poisson distribution. They did not link to a tutorial (I'm not sure if we actually had to do this in the assignment) but I can tell she based her example off of the notebook 10.6 which is taken from https://docs.pymc.io/notebooks/getting_started.html#Case-study-2:-Coal-mining-disasters Parameters of the model they are trying to fit are the early rate, late rate, and the switch point of the generated dataset."
   ]
  },
  {
   "cell_type": "markdown",
   "metadata": {},
   "source": [
    "### Are they sampling data in their model from the same type of distribution that was used to generate the data?\n",
    "\n",
    "I believe so. If I understand the tutorial correctly, when the line of code: \n",
    "\n",
    "`disasters = pm.Poisson('disasters', rate, observed=disaster_data)` \n",
    "\n",
    "or in the case of Jess's code:\n",
    "\n",
    "`years = pm.Poisson('years', rate, observed=data.score)`\n",
    "\n",
    "is included, it means that you are adding a prior in which your analysis assumes that the disaster data and model both fit a Poisson distribution."
   ]
  },
  {
   "cell_type": "markdown",
   "metadata": {},
   "source": [
    "### Do you agree or disagree with their assessment of the model fit? Did it work well? How might you suggest improving the model, or further testing this type of model?\n",
    "\n",
    "Jess did not provide an assessment of the model fit but I think the model got close to the actual switchpoint and the early and late rate. The only issue is the number of datapoints that were generated and the very short run of the MCMC chain. Jess ran her chain with only 10 steps and disposed of 3 of the steps when running trace. This means that the switchpoint and early and late rate have a quite large confidence interval (e.g. 95% CI of switchpoint is (13,16) which doesn't seem that large but when you consider that the number of years was only 25, it is quite a large CI) and the models are not fit very well. Jess did all the right steps but the model could have been made more accurate by generating a larger initial dataset and running the MCMC for many more steps."
   ]
  }
 ],
 "metadata": {
  "kernelspec": {
   "display_name": "Python 3",
   "language": "python",
   "name": "python3"
  },
  "language_info": {
   "codemirror_mode": {
    "name": "ipython",
    "version": 3
   },
   "file_extension": ".py",
   "mimetype": "text/x-python",
   "name": "python",
   "nbconvert_exporter": "python",
   "pygments_lexer": "ipython3",
   "version": "3.6.4"
  }
 },
 "nbformat": 4,
 "nbformat_minor": 2
}
