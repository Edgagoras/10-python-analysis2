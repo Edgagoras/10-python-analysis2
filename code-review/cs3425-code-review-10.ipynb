{
 "cells": [
  {
   "cell_type": "markdown",
   "metadata": {},
   "source": [
    "### Code Review for vjjan91"
   ]
  },
  {
   "cell_type": "markdown",
   "metadata": {},
   "source": [
    "#### What method did they use to generate data? What types of distributions did they sample data from? What type of data do these distributions generate?"
   ]
  },
  {
   "cell_type": "markdown",
   "metadata": {},
   "source": [
    "Random was generated in a Pandas DataFrame using numpy.random along a poisson distribution with previously defined parameters. For a few other data sets, True/False values were assigned non-randomly. The data randomly drawn from a poisson distribution generates series that are skewed based on a parameter (i.e., not symmetrically distributed)."
   ]
  },
  {
   "cell_type": "markdown",
   "metadata": {},
   "source": [
    "#### What type of model did they try to fit with pymc3? Did they link to the tutorial that their analysis is based on. Which parameters of the model are they trying to fit."
   ]
  },
  {
   "cell_type": "markdown",
   "metadata": {},
   "source": [
    "This code tries to predict a poisson regression including interaction of terms. Using the glm model (possoin regression) and the linear model for interaction `fml = 'detectability ~ species + elevation + species:elevation'`, the analysis that can then be used in `Model()` by calling the `from_formula()` method and passing the model name `fml` as a parameter.\n",
    "\n",
    "It appears that the model is based on the pymc3 documentation found here, which helped me understand what was happening in this code. http://docs.pymc.io/notebooks/GLM-poisson-regression.html"
   ]
  },
  {
   "cell_type": "markdown",
   "metadata": {},
   "source": [
    "#### Are they sampling data in their model from the same type of distribution that was used to generate the data?"
   ]
  },
  {
   "cell_type": "markdown",
   "metadata": {},
   "source": [
    "I think since the model relies on the defined linear relationship `fml` that includes the parameters that were defined in the DataFrame it means that the model sampeled data from the same distribution it was generated. "
   ]
  },
  {
   "cell_type": "markdown",
   "metadata": {},
   "source": [
    "#### Do you agree or disagree with their assessment of the model fit? Did it work well? How might you suggest improving the model, or further testing this type of model?"
   ]
  },
  {
   "cell_type": "markdown",
   "metadata": {},
   "source": [
    "I was not seeing the parameters accurately estimated in the summary statistics but I also may have misinterpreted what the summary statistics were representing... I think the creation of the model looks good to me compared to the documentation sample code, so I'm not sure where the traces and coefficient transformation went wrong but those looked like two sources of issues. (Maybe the traceplots went wrong first, although it looks identical to the sample code?) This could be on me not misunderstanding, but comparing it to the sample code the results look different (i.e., the sample code does estimate the parameters that were defined in the DataFrame)."
   ]
  }
 ],
 "metadata": {
  "kernelspec": {
   "display_name": "Python 3",
   "language": "python",
   "name": "python3"
  },
  "language_info": {
   "codemirror_mode": {
    "name": "ipython",
    "version": 3
   },
   "file_extension": ".py",
   "mimetype": "text/x-python",
   "name": "python",
   "nbconvert_exporter": "python",
   "pygments_lexer": "ipython3",
   "version": "3.6.4"
  }
 },
 "nbformat": 4,
 "nbformat_minor": 2
}
