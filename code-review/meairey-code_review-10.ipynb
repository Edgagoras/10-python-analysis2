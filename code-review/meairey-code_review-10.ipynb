{
 "cells": [
  {
   "cell_type": "markdown",
   "metadata": {},
   "source": [
    "## Code Review by meairey\n",
    "### Code review of anikap22"
   ]
  },
  {
   "cell_type": "markdown",
   "metadata": {},
   "source": [
    "#### Q. What method did they use to generate data? What types of distributions did they sample data from? What type of data do these distributions generate?\n",
    "#### They generated data by setting a random seed, creating a range of years, and then randomly generated data. The data generated was from a poisson distribution. It generated 818 different points that represent the number of seedlings present in a given year. "
   ]
  },
  {
   "cell_type": "markdown",
   "metadata": {},
   "source": [
    "#### Q. What type of model did they try to fit with pymc3? Did they link to the tutorial that their analysis is based on. Which parameters of the model are they trying to fit?\n",
    "#### They created a model that was similar to the notebook 10.6 example. The model they created, seedling_model, estimated the switchpoint when the rate of seedlings per year changed. To do this, the model estimated the parameters early rate and late rate. Early_rate was related to the rate of seedlings before the switchpoint and late_rate was particular to the rate of seedlings after the switchpoint. The model was also trying to estimate when the switchpoint actually occured. "
   ]
  },
  {
   "cell_type": "markdown",
   "metadata": {},
   "source": [
    "#### Q. Are they sampling data in their model from the same distribution that was used to generate the data?\n",
    "#### Yes it is. They used seedlings = pm.Poisson('seedlings', rate, observed=data.seedlings). "
   ]
  },
  {
   "cell_type": "markdown",
   "metadata": {},
   "source": [
    "#### Q. Do you agree of disagreee with their assessment of the model fit? Did it work well? How might you suggest improving the model, or further testing this type of model?\n",
    "#### Their model predicted the switchpoint as being a date that was 17 years after the actual switchpoint, it also has a sd of 21.48. While this value is close to the date of the switchpoint, I think it could have been more accurate if they had run more than 100 iterations. They did awknowledge this in their assessment and explained why they did so few iterations. If possible, I would suggest running the sampler over a larger number of iterations. In addition, they ask the model to search for the switch point around 1800, when their switchpoint was actually around 1600. So I might also change it to see if that improves their model assessment at all. "
   ]
  },
  {
   "cell_type": "code",
   "execution_count": null,
   "metadata": {},
   "outputs": [],
   "source": []
  }
 ],
 "metadata": {
  "kernelspec": {
   "display_name": "Python 3",
   "language": "python",
   "name": "python3"
  },
  "language_info": {
   "codemirror_mode": {
    "name": "ipython",
    "version": 3
   },
   "file_extension": ".py",
   "mimetype": "text/x-python",
   "name": "python",
   "nbconvert_exporter": "python",
   "pygments_lexer": "ipython3",
   "version": "3.6.3"
  }
 },
 "nbformat": 4,
 "nbformat_minor": 2
}
