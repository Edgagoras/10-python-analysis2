{
 "cells": [
  {
   "cell_type": "markdown",
   "metadata": {},
   "source": [
    "### Reviewing Lucas R Moreira's assignment (Week-10)"
   ]
  },
  {
   "cell_type": "markdown",
   "metadata": {},
   "source": [
    "The author fitted a linear regression model similar to the example in notebook 10.4. However, the author increased the variance in one of the \"observed\" variables, the height. \"That made the MCMC take much longer to finish. Nevertheless, the parameter estimates were all close to the real values with exception of sigma, which had the mean very off and a huge HPD (uncertainty)\"."
   ]
  },
  {
   "cell_type": "markdown",
   "metadata": {},
   "source": [
    "1. The `numpy.random` was used to generate data and this followed the example shown in notebook 10.4.  \n",
    "2. Tha author sampled randomly from a normal distribution.   \n",
    "3. The type of data generated here refer to the age and height of a tree.\n",
    "\n",
    "4. A linear regression model was fit using `pymc3`, where priors for alpha, beta and sigma are defined (No particular changes were made that were different compared to the example shown in notebook 10.4. \n",
    "5. Yes, data in the model was sampled based on the same type of distribution that was used to generate the data.  \n",
    "6. I agree with the assessment of the model fit. It seemed to have worked well, as the values were very close to the real values generated. However, sigma wasn't really close to the real value.  \n",
    "7. One way to improve the model would be to try different distributions and see what fits the data best? MCMC could be increased to see if that reduces the difference in sigma values.  "
   ]
  }
 ],
 "metadata": {
  "kernelspec": {
   "display_name": "Python 3",
   "language": "python",
   "name": "python3"
  },
  "language_info": {
   "codemirror_mode": {
    "name": "ipython",
    "version": 3
   },
   "file_extension": ".py",
   "mimetype": "text/x-python",
   "name": "python",
   "nbconvert_exporter": "python",
   "pygments_lexer": "ipython3",
   "version": "3.6.3"
  }
 },
 "nbformat": 4,
 "nbformat_minor": 2
}
