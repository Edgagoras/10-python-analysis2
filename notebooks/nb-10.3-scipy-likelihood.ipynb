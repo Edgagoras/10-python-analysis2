{
 "cells": [
  {
   "cell_type": "markdown",
   "metadata": {},
   "source": [
    "## Notebook 10.3"
   ]
  },
  {
   "cell_type": "markdown",
   "metadata": {},
   "source": [
    "We've already been introduced to the `scipy` library. Here we will touch again on the use of scipy for fitting statistical models by accessing functions to describe statistical distributions.  "
   ]
  },
  {
   "cell_type": "markdown",
   "metadata": {},
   "source": [
    "### Required software"
   ]
  },
  {
   "cell_type": "code",
   "execution_count": 1,
   "metadata": {},
   "outputs": [],
   "source": [
    "# conda install scipy\n",
    "# conda install numpy\n",
    "# pip install toyplot"
   ]
  },
  {
   "cell_type": "code",
   "execution_count": 2,
   "metadata": {},
   "outputs": [],
   "source": [
    "import scipy.optimize as so\n",
    "import scipy.stats as sc\n",
    "import numpy as np\n",
    "import toyplot"
   ]
  },
  {
   "cell_type": "markdown",
   "metadata": {},
   "source": [
    "### True statistical distributions\n",
    "While in `numpy` we use the `random` library to sample random values from defined statistical distributions, `scipy` provides a different way to access most of the same distributions by calculating exact probabilities for observed values in a distribution given parameters of that distribution. \n",
    "\n",
    "For example, the function below asks what the probability is of sampling the value 2.3 from a normal distribution with mean =0 and standard deviation=2. "
   ]
  },
  {
   "cell_type": "code",
   "execution_count": 5,
   "metadata": {},
   "outputs": [
    {
     "data": {
      "text/plain": [
       "0.10296813435998739"
      ]
     },
     "execution_count": 5,
     "metadata": {},
     "output_type": "execute_result"
    }
   ],
   "source": [
    "sc.norm.pdf(2.3, loc=0, scale=2)"
   ]
  },
  {
   "cell_type": "markdown",
   "metadata": {},
   "source": [
    "### Plotting distributions\n",
    "With scipy we can thus calculate exact probability distributions, instead of just sampling from them. Below I sample points equally between -10 and 10 for the x-axis of a plot, and then I use the scipy function `.norm.pdf` (the probability density function) to calculate the probability of each of the sampled points along x given a normal distribution with parameters `(loc=0, scale=2)`. "
   ]
  },
  {
   "cell_type": "code",
   "execution_count": 7,
   "metadata": {},
   "outputs": [
    {
     "data": {
      "text/html": [
       "<div class=\"toyplot\" id=\"t961b2f3044334e9ca289955ada9d2fed\" style=\"text-align:center\"><svg class=\"toyplot-canvas-Canvas\" height=\"250.0px\" id=\"t286cd69451b14a16bad917db3d713db4\" preserveAspectRatio=\"xMidYMid meet\" style=\"background-color:transparent;fill:rgb(16.1%,15.3%,14.1%);fill-opacity:1.0;font-family:Helvetica;font-size:12px;opacity:1.0;stroke:rgb(16.1%,15.3%,14.1%);stroke-opacity:1.0;stroke-width:1.0\" viewBox=\"0 0 400.0 250.0\" width=\"400.0px\" xmlns=\"http://www.w3.org/2000/svg\" xmlns:toyplot=\"http://www.sandia.gov/toyplot\" xmlns:xlink=\"http://www.w3.org/1999/xlink\"><g class=\"toyplot-coordinates-Cartesian\" id=\"t60a38dca2cb447ff943f205a2b1b7c71\"><clipPath id=\"t6a820a340a594cc68ba6ef18914786dd\"><rect height=\"170.0\" width=\"320.0\" x=\"40.0\" y=\"40.0\"></rect></clipPath><g clip-path=\"url(#t6a820a340a594cc68ba6ef18914786dd)\"><g class=\"toyplot-mark-FillBoundaries\" id=\"t888da076aabd4a26a5203169f968a7c3\" style=\"stroke:none\"><polygon points=\"50.0,200.0 56.122448979591823,200.0 62.24489795918366,200.0 68.367346938775512,200.0 74.489795918367349,200.0 80.612244897959187,200.0 86.734693877551024,200.0 92.857142857142861,200.0 98.979591836734699,200.0 105.10204081632652,200.0 111.22448979591837,200.0 117.34693877551021,200.0 123.46938775510203,200.0 129.59183673469386,200.0 135.71428571428572,200.0 141.83673469387753,200.0 147.9591836734694,200.0 154.08163265306123,200.0 160.20408163265307,200.0 166.32653061224491,200.0 172.44897959183675,200.0 178.57142857142856,200.0 184.69387755102042,200.0 190.81632653061226,200.0 196.93877551020407,200.0 203.06122448979593,200.0 209.18367346938774,200.0 215.30612244897964,200.0 221.42857142857144,200.0 227.55102040816325,200.0 233.67346938775509,200.0 239.79591836734696,200.0 245.91836734693879,200.0 252.0408163265306,200.0 258.16326530612247,200.0 264.28571428571428,200.0 270.40816326530614,200.0 276.53061224489795,200.0 282.65306122448982,200.0 288.77551020408163,200.0 294.89795918367349,200.0 301.02040816326536,200.0 307.14285714285717,200.0 313.26530612244898,200.0 319.38775510204084,200.0 325.51020408163271,200.0 331.63265306122452,200.0 337.75510204081633,200.0 343.87755102040813,200.0 350.0,200.0 350.0,199.99944248018198 343.87755102040813,199.99848513507192 337.75510204081633,199.99605179726052 331.63265306122452,199.99012955089924 325.51020408163271,199.9763306509399 319.38775510204084,199.94555629792899 313.26530612244898,199.87987845307623 307.14285714285717,199.74578210557524 301.02040816326536,199.48393637161271 294.89795918367349,198.99512435824565 288.77551020408163,198.12313377184313 282.65306122448982,196.63746933324606 276.53061224489795,194.22155317409226 270.40816326530614,190.47493557500331 264.28571428571428,184.93959483466136 258.16326530612247,177.15888381631547 252.0408163265306,166.77156223873749 245.91836734693879,153.63241710092635 239.79591836734696,137.93726302326681 233.67346938775509,120.31816545875058 227.55102040816325,101.87048372223759 221.42857142857144,84.081720942850097 215.30612244897964,68.654219659086507 209.18367346938774,57.244694262903607 203.06122448979593,51.173480544357567 196.93877551020407,51.173480544357567 190.81632653061226,57.244694262903607 184.69387755102042,68.654219659086422 178.57142857142856,84.081720942850097 172.44897959183675,101.87048372223759 166.32653061224491,120.3181654587505 160.20408163265307,137.93726302326678 154.08163265306123,153.63241710092635 147.9591836734694,166.77156223873749 141.83673469387753,177.15888381631547 135.71428571428572,184.93959483466134 129.59183673469386,190.47493557500331 123.46938775510203,194.22155317409226 117.34693877551021,196.63746933324603 111.22448979591837,198.1231337718431 105.10204081632652,198.99512435824565 98.979591836734699,199.48393637161271 92.857142857142861,199.74578210557524 86.734693877551024,199.87987845307623 80.612244897959187,199.94555629792899 74.489795918367349,199.9763306509399 68.367346938775512,199.99012955089924 62.24489795918366,199.99605179726052 56.122448979591823,199.99848513507192 50.0,199.99944248018198\" style=\"fill:rgb(40%,76.1%,64.7%);fill-opacity:1.0;opacity:0.7;stroke:none\"></polygon></g></g><g class=\"toyplot-coordinates-Axis\" id=\"t71de76b187834260810996bd371150d5\" transform=\"translate(50.0,200.0)translate(0,10.0)\"><line style=\"\" x1=\"0\" x2=\"300.0\" y1=\"0\" y2=\"0\"></line><g><g transform=\"translate(0.0,6)\"><text style=\"fill:rgb(16.1%,15.3%,14.1%);fill-opacity:1.0;font-family:helvetica;font-size:10.0px;font-weight:normal;stroke:none;vertical-align:baseline;white-space:pre\" x=\"-7.225\" y=\"8.555\">-10</text></g><g transform=\"translate(75.0,6)\"><text style=\"fill:rgb(16.1%,15.3%,14.1%);fill-opacity:1.0;font-family:helvetica;font-size:10.0px;font-weight:normal;stroke:none;vertical-align:baseline;white-space:pre\" x=\"-4.445\" y=\"8.555\">-5</text></g><g transform=\"translate(150.0,6)\"><text style=\"fill:rgb(16.1%,15.3%,14.1%);fill-opacity:1.0;font-family:helvetica;font-size:10.0px;font-weight:normal;stroke:none;vertical-align:baseline;white-space:pre\" x=\"-2.78\" y=\"8.555\">0</text></g><g transform=\"translate(225.0,6)\"><text style=\"fill:rgb(16.1%,15.3%,14.1%);fill-opacity:1.0;font-family:helvetica;font-size:10.0px;font-weight:normal;stroke:none;vertical-align:baseline;white-space:pre\" x=\"-2.78\" y=\"8.555\">5</text></g><g transform=\"translate(300.0,6)\"><text style=\"fill:rgb(16.1%,15.3%,14.1%);fill-opacity:1.0;font-family:helvetica;font-size:10.0px;font-weight:normal;stroke:none;vertical-align:baseline;white-space:pre\" x=\"-5.56\" y=\"8.555\">10</text></g></g><g class=\"toyplot-coordinates-Axis-coordinates\" style=\"visibility:hidden\" transform=\"\"><line style=\"stroke:rgb(43.9%,50.2%,56.5%);stroke-opacity:1.0;stroke-width:1.0\" x1=\"0\" x2=\"0\" y1=\"-3.0\" y2=\"4.5\"></line><text style=\"alignment-baseline:alphabetic;fill:rgb(43.9%,50.2%,56.5%);fill-opacity:1.0;font-size:10px;font-weight:normal;stroke:none;text-anchor:middle\" x=\"0\" y=\"-6\"></text></g></g><g class=\"toyplot-coordinates-Axis\" id=\"td610fac8be3446b5a01c1784a9d5e636\" transform=\"translate(50.0,200.0)rotate(-90.0)translate(0,-10.0)\"><line style=\"\" x1=\"0\" x2=\"148.82651945564243\" y1=\"0\" y2=\"0\"></line><g><g transform=\"translate(0.0,-6)\"><text style=\"fill:rgb(16.1%,15.3%,14.1%);fill-opacity:1.0;font-family:helvetica;font-size:10.0px;font-weight:normal;stroke:none;vertical-align:baseline;white-space:pre\" x=\"-9.73\" y=\"-4.4408920985e-16\">0.00</text></g><g transform=\"translate(37.5,-6)\"><text style=\"fill:rgb(16.1%,15.3%,14.1%);fill-opacity:1.0;font-family:helvetica;font-size:10.0px;font-weight:normal;stroke:none;vertical-align:baseline;white-space:pre\" x=\"-9.73\" y=\"-4.4408920985e-16\">0.05</text></g><g transform=\"translate(75.0,-6)\"><text style=\"fill:rgb(16.1%,15.3%,14.1%);fill-opacity:1.0;font-family:helvetica;font-size:10.0px;font-weight:normal;stroke:none;vertical-align:baseline;white-space:pre\" x=\"-9.73\" y=\"-4.4408920985e-16\">0.10</text></g><g transform=\"translate(112.50000000000001,-6)\"><text style=\"fill:rgb(16.1%,15.3%,14.1%);fill-opacity:1.0;font-family:helvetica;font-size:10.0px;font-weight:normal;stroke:none;vertical-align:baseline;white-space:pre\" x=\"-9.73\" y=\"-4.4408920985e-16\">0.15</text></g><g transform=\"translate(150.0,-6)\"><text style=\"fill:rgb(16.1%,15.3%,14.1%);fill-opacity:1.0;font-family:helvetica;font-size:10.0px;font-weight:normal;stroke:none;vertical-align:baseline;white-space:pre\" x=\"-9.73\" y=\"-4.4408920985e-16\">0.20</text></g></g><g class=\"toyplot-coordinates-Axis-coordinates\" style=\"visibility:hidden\" transform=\"\"><line style=\"stroke:rgb(43.9%,50.2%,56.5%);stroke-opacity:1.0;stroke-width:1.0\" x1=\"0\" x2=\"0\" y1=\"3.0\" y2=\"-4.5\"></line><text style=\"alignment-baseline:hanging;fill:rgb(43.9%,50.2%,56.5%);fill-opacity:1.0;font-size:10px;font-weight:normal;stroke:none;text-anchor:middle\" x=\"0\" y=\"6\"></text></g></g></g></svg><div class=\"toyplot-behavior\"><script>(function()\n",
       "{\n",
       "var modules={};\n",
       "modules[\"toyplot/tables\"] = (function()\n",
       "    {\n",
       "        var tables = [];\n",
       "\n",
       "        var module = {};\n",
       "\n",
       "        module.set = function(owner, key, names, columns)\n",
       "        {\n",
       "            tables.push({owner: owner, key: key, names: names, columns: columns});\n",
       "        }\n",
       "\n",
       "        module.get = function(owner, key)\n",
       "        {\n",
       "            for(var i = 0; i != tables.length; ++i)\n",
       "            {\n",
       "                var table = tables[i];\n",
       "                if(table.owner != owner)\n",
       "                    continue;\n",
       "                if(table.key != key)\n",
       "                    continue;\n",
       "                return {names: table.names, columns: table.columns};\n",
       "            }\n",
       "        }\n",
       "\n",
       "        module.get_csv = function(owner, key)\n",
       "        {\n",
       "            var table = module.get(owner, key);\n",
       "            if(table != undefined)\n",
       "            {\n",
       "                var csv = \"\";\n",
       "                csv += table.names.join(\",\") + \"\\n\";\n",
       "                for(var i = 0; i != table.columns[0].length; ++i)\n",
       "                {\n",
       "                  for(var j = 0; j != table.columns.length; ++j)\n",
       "                  {\n",
       "                    if(j)\n",
       "                      csv += \",\";\n",
       "                    csv += table.columns[j][i];\n",
       "                  }\n",
       "                  csv += \"\\n\";\n",
       "                }\n",
       "                return csv;\n",
       "            }\n",
       "        }\n",
       "\n",
       "        return module;\n",
       "    })();\n",
       "modules[\"toyplot/root/id\"] = \"t961b2f3044334e9ca289955ada9d2fed\";\n",
       "modules[\"toyplot/root\"] = (function(root_id)\n",
       "    {\n",
       "        return document.querySelector(\"#\" + root_id);\n",
       "    })(modules[\"toyplot/root/id\"]);\n",
       "modules[\"toyplot/canvas/id\"] = \"t286cd69451b14a16bad917db3d713db4\";\n",
       "modules[\"toyplot/canvas\"] = (function(canvas_id)\n",
       "    {\n",
       "        return document.querySelector(\"#\" + canvas_id);\n",
       "    })(modules[\"toyplot/canvas/id\"]);\n",
       "modules[\"toyplot/menus/context\"] = (function(root, canvas)\n",
       "    {\n",
       "        var wrapper = document.createElement(\"div\");\n",
       "        wrapper.innerHTML = \"<ul class='toyplot-context-menu' style='background:#eee; border:1px solid #b8b8b8; border-radius:5px; box-shadow: 0px 0px 8px rgba(0%,0%,0%,0.25); margin:0; padding:3px 0; position:fixed; visibility:hidden;'></ul>\"\n",
       "        var menu = wrapper.firstChild;\n",
       "\n",
       "        root.appendChild(menu);\n",
       "\n",
       "        var items = [];\n",
       "\n",
       "        var ignore_mouseup = null;\n",
       "        function open_menu(e)\n",
       "        {\n",
       "            var show_menu = false;\n",
       "            for(var index=0; index != items.length; ++index)\n",
       "            {\n",
       "                var item = items[index];\n",
       "                if(item.show(e))\n",
       "                {\n",
       "                    item.item.style.display = \"block\";\n",
       "                    show_menu = true;\n",
       "                }\n",
       "                else\n",
       "                {\n",
       "                    item.item.style.display = \"none\";\n",
       "                }\n",
       "            }\n",
       "\n",
       "            if(show_menu)\n",
       "            {\n",
       "                ignore_mouseup = true;\n",
       "                menu.style.left = (e.clientX + 1) + \"px\";\n",
       "                menu.style.top = (e.clientY - 5) + \"px\";\n",
       "                menu.style.visibility = \"visible\";\n",
       "                e.stopPropagation();\n",
       "                e.preventDefault();\n",
       "            }\n",
       "        }\n",
       "\n",
       "        function close_menu()\n",
       "        {\n",
       "            menu.style.visibility = \"hidden\";\n",
       "        }\n",
       "\n",
       "        function contextmenu(e)\n",
       "        {\n",
       "            open_menu(e);\n",
       "        }\n",
       "\n",
       "        function mousemove(e)\n",
       "        {\n",
       "            ignore_mouseup = false;\n",
       "        }\n",
       "\n",
       "        function mouseup(e)\n",
       "        {\n",
       "            if(ignore_mouseup)\n",
       "            {\n",
       "                ignore_mouseup = false;\n",
       "                return;\n",
       "            }\n",
       "            close_menu();\n",
       "        }\n",
       "\n",
       "        function keydown(e)\n",
       "        {\n",
       "            if(e.key == \"Escape\" || e.key == \"Esc\" || e.keyCode == 27)\n",
       "            {\n",
       "                close_menu();\n",
       "            }\n",
       "        }\n",
       "\n",
       "        canvas.addEventListener(\"contextmenu\", contextmenu);\n",
       "        canvas.addEventListener(\"mousemove\", mousemove);\n",
       "        document.addEventListener(\"mouseup\", mouseup);\n",
       "        document.addEventListener(\"keydown\", keydown);\n",
       "\n",
       "        var module = {};\n",
       "        module.add_item = function(label, show, activate)\n",
       "        {\n",
       "            var wrapper = document.createElement(\"div\");\n",
       "            wrapper.innerHTML = \"<li class='toyplot-context-menu-item' style='background:#eee; color:#333; padding:2px 20px; list-style:none; margin:0; text-align:left;'>\" + label + \"</li>\"\n",
       "            var item = wrapper.firstChild;\n",
       "\n",
       "            items.push({item: item, show: show});\n",
       "\n",
       "            function mouseover()\n",
       "            {\n",
       "                this.style.background = \"steelblue\";\n",
       "                this.style.color = \"white\";\n",
       "            }\n",
       "\n",
       "            function mouseout()\n",
       "            {\n",
       "                this.style.background = \"#eee\";\n",
       "                this.style.color = \"#333\";\n",
       "            }\n",
       "\n",
       "            function choose_item(e)\n",
       "            {\n",
       "                close_menu();\n",
       "                activate();\n",
       "\n",
       "                e.stopPropagation();\n",
       "                e.preventDefault();\n",
       "            }\n",
       "\n",
       "            item.addEventListener(\"mouseover\", mouseover);\n",
       "            item.addEventListener(\"mouseout\", mouseout);\n",
       "            item.addEventListener(\"mouseup\", choose_item);\n",
       "            item.addEventListener(\"contextmenu\", choose_item);\n",
       "\n",
       "            menu.appendChild(item);\n",
       "        };\n",
       "        return module;\n",
       "    })(modules[\"toyplot/root\"],modules[\"toyplot/canvas\"]);\n",
       "modules[\"toyplot/io\"] = (function()\n",
       "    {\n",
       "        var module = {};\n",
       "        module.save_file = function(mime_type, charset, data, filename)\n",
       "        {\n",
       "            var uri = \"data:\" + mime_type + \";charset=\" + charset + \",\" + data;\n",
       "            uri = encodeURI(uri);\n",
       "\n",
       "            var link = document.createElement(\"a\");\n",
       "            if(typeof link.download != \"undefined\")\n",
       "            {\n",
       "              link.href = uri;\n",
       "              link.style = \"visibility:hidden\";\n",
       "              link.download = filename;\n",
       "\n",
       "              document.body.appendChild(link);\n",
       "              link.click();\n",
       "              document.body.removeChild(link);\n",
       "            }\n",
       "            else\n",
       "            {\n",
       "              window.open(uri);\n",
       "            }\n",
       "        };\n",
       "        return module;\n",
       "    })();\n",
       "modules[\"toyplot.coordinates.Axis\"] = (\n",
       "        function(canvas)\n",
       "        {\n",
       "            function sign(x)\n",
       "            {\n",
       "                return x < 0 ? -1 : x > 0 ? 1 : 0;\n",
       "            }\n",
       "\n",
       "            function mix(a, b, amount)\n",
       "            {\n",
       "                return ((1.0 - amount) * a) + (amount * b);\n",
       "            }\n",
       "\n",
       "            function log(x, base)\n",
       "            {\n",
       "                return Math.log(Math.abs(x)) / Math.log(base);\n",
       "            }\n",
       "\n",
       "            function in_range(a, x, b)\n",
       "            {\n",
       "                var left = Math.min(a, b);\n",
       "                var right = Math.max(a, b);\n",
       "                return left <= x && x <= right;\n",
       "            }\n",
       "\n",
       "            function inside(range, projection)\n",
       "            {\n",
       "                for(var i = 0; i != projection.length; ++i)\n",
       "                {\n",
       "                    var segment = projection[i];\n",
       "                    if(in_range(segment.range.min, range, segment.range.max))\n",
       "                        return true;\n",
       "                }\n",
       "                return false;\n",
       "            }\n",
       "\n",
       "            function to_domain(range, projection)\n",
       "            {\n",
       "                for(var i = 0; i != projection.length; ++i)\n",
       "                {\n",
       "                    var segment = projection[i];\n",
       "                    if(in_range(segment.range.bounds.min, range, segment.range.bounds.max))\n",
       "                    {\n",
       "                        if(segment.scale == \"linear\")\n",
       "                        {\n",
       "                            var amount = (range - segment.range.min) / (segment.range.max - segment.range.min);\n",
       "                            return mix(segment.domain.min, segment.domain.max, amount)\n",
       "                        }\n",
       "                        else if(segment.scale[0] == \"log\")\n",
       "                        {\n",
       "                            var amount = (range - segment.range.min) / (segment.range.max - segment.range.min);\n",
       "                            var base = segment.scale[1];\n",
       "                            return sign(segment.domain.min) * Math.pow(base, mix(log(segment.domain.min, base), log(segment.domain.max, base), amount));\n",
       "                        }\n",
       "                    }\n",
       "                }\n",
       "            }\n",
       "\n",
       "            var axes = {};\n",
       "\n",
       "            function display_coordinates(e)\n",
       "            {\n",
       "                var current = canvas.createSVGPoint();\n",
       "                current.x = e.clientX;\n",
       "                current.y = e.clientY;\n",
       "\n",
       "                for(var axis_id in axes)\n",
       "                {\n",
       "                    var axis = document.querySelector(\"#\" + axis_id);\n",
       "                    var coordinates = axis.querySelector(\".toyplot-coordinates-Axis-coordinates\");\n",
       "                    if(coordinates)\n",
       "                    {\n",
       "                        var projection = axes[axis_id];\n",
       "                        var local = current.matrixTransform(axis.getScreenCTM().inverse());\n",
       "                        if(inside(local.x, projection))\n",
       "                        {\n",
       "                            var domain = to_domain(local.x, projection);\n",
       "                            coordinates.style.visibility = \"visible\";\n",
       "                            coordinates.setAttribute(\"transform\", \"translate(\" + local.x + \")\");\n",
       "                            var text = coordinates.querySelector(\"text\");\n",
       "                            text.textContent = domain.toFixed(2);\n",
       "                        }\n",
       "                        else\n",
       "                        {\n",
       "                            coordinates.style.visibility= \"hidden\";\n",
       "                        }\n",
       "                    }\n",
       "                }\n",
       "            }\n",
       "\n",
       "            canvas.addEventListener(\"click\", display_coordinates);\n",
       "\n",
       "            var module = {};\n",
       "            module.show_coordinates = function(axis_id, projection)\n",
       "            {\n",
       "                axes[axis_id] = projection;\n",
       "            }\n",
       "\n",
       "            return module;\n",
       "        })(modules[\"toyplot/canvas\"]);\n",
       "(function(tables, context_menu, io, owner_id, key, label, names, columns, filename)\n",
       "        {\n",
       "            tables.set(owner_id, key, names, columns);\n",
       "\n",
       "            var owner = document.querySelector(\"#\" + owner_id);\n",
       "            function show_item(e)\n",
       "            {\n",
       "                return owner.contains(e.target);\n",
       "            }\n",
       "\n",
       "            function choose_item()\n",
       "            {\n",
       "                io.save_file(\"text/csv\", \"utf-8\", tables.get_csv(owner_id, key), filename + \".csv\");\n",
       "            }\n",
       "\n",
       "            context_menu.add_item(\"Save \" + label + \" as CSV\", show_item, choose_item);\n",
       "        })(modules[\"toyplot/tables\"],modules[\"toyplot/menus/context\"],modules[\"toyplot/io\"],\"t888da076aabd4a26a5203169f968a7c3\",\"data\",\"fill data\",[\"x\", \"y0\", \"y1\"],[[-10.0, -9.591836734693878, -9.183673469387756, -8.775510204081632, -8.36734693877551, -7.959183673469388, -7.551020408163265, -7.142857142857142, -6.73469387755102, -6.326530612244898, -5.918367346938775, -5.5102040816326525, -5.1020408163265305, -4.6938775510204085, -4.285714285714286, -3.8775510204081627, -3.4693877551020407, -3.0612244897959187, -2.6530612244897958, -2.244897959183673, -1.8367346938775508, -1.4285714285714288, -1.020408163265305, -0.612244897959183, -0.204081632653061, 0.204081632653061, 0.612244897959183, 1.0204081632653068, 1.4285714285714288, 1.8367346938775508, 2.2448979591836746, 2.6530612244897966, 3.0612244897959187, 3.4693877551020407, 3.8775510204081627, 4.2857142857142865, 4.6938775510204085, 5.1020408163265305, 5.510204081632654, 5.918367346938776, 6.326530612244898, 6.73469387755102, 7.142857142857142, 7.551020408163264, 7.95918367346939, 8.367346938775512, 8.775510204081634, 9.183673469387756, 9.591836734693878, 10.0], [0.0, 0.0, 0.0, 0.0, 0.0, 0.0, 0.0, 0.0, 0.0, 0.0, 0.0, 0.0, 0.0, 0.0, 0.0, 0.0, 0.0, 0.0, 0.0, 0.0, 0.0, 0.0, 0.0, 0.0, 0.0, 0.0, 0.0, 0.0, 0.0, 0.0, 0.0, 0.0, 0.0, 0.0, 0.0, 0.0, 0.0, 0.0, 0.0, 0.0, 0.0, 0.0, 0.0, 0.0, 0.0, 0.0, 0.0, 0.0, 0.0, 0.0], [7.433597573671489e-07, 2.019819904139352e-06, 5.264270319312934e-06, 1.3160598800990793e-05, 3.1559132080137545e-05, 7.259160276135438e-05, 0.000160162062565049, 0.0003389571925663387, 0.0006880848378497111, 0.0013398341890058034, 0.0025024883042091745, 0.004483374222338616, 0.007704595767876994, 0.012700085899995574, 0.02008054022045156, 0.03045482157824606, 0.04430458368168337, 0.06182344386543152, 0.08275031596897761, 0.10624244605499933, 0.13083935503701655, 0.1545577054095332, 0.1751277071212181, 0.19034040764946186, 0.19843535927418993, 0.19843535927418993, 0.19034040764946186, 0.175127707121218, 0.1545577054095332, 0.13083935503701655, 0.10624244605499922, 0.08275031596897757, 0.06182344386543152, 0.04430458368168337, 0.03045482157824606, 0.020080540220451547, 0.012700085899995574, 0.007704595767876994, 0.004483374222338606, 0.00250248830420917, 0.0013398341890058034, 0.0006880848378497111, 0.0003389571925663387, 0.00016016206256504927, 7.259160276135412e-05, 3.155913208013743e-05, 1.3160598800990745e-05, 5.264270319312934e-06, 2.019819904139352e-06, 7.433597573671489e-07]],\"toyplot\");\n",
       "(function(axis, axis_id, projection)\n",
       "        {\n",
       "            axis.show_coordinates(axis_id, projection);\n",
       "        })(modules[\"toyplot.coordinates.Axis\"],\"t71de76b187834260810996bd371150d5\",[{\"domain\": {\"bounds\": {\"max\": Infinity, \"min\": -Infinity}, \"max\": 10.0, \"min\": -10.0}, \"range\": {\"bounds\": {\"max\": Infinity, \"min\": -Infinity}, \"max\": 300.0, \"min\": 0.0}, \"scale\": \"linear\"}]);\n",
       "(function(axis, axis_id, projection)\n",
       "        {\n",
       "            axis.show_coordinates(axis_id, projection);\n",
       "        })(modules[\"toyplot.coordinates.Axis\"],\"td610fac8be3446b5a01c1784a9d5e636\",[{\"domain\": {\"bounds\": {\"max\": Infinity, \"min\": -Infinity}, \"max\": 0.2, \"min\": 0.0}, \"range\": {\"bounds\": {\"max\": Infinity, \"min\": -Infinity}, \"max\": 150.0, \"min\": 0.0}, \"scale\": \"linear\"}]);\n",
       "})();</script></div></div>"
      ]
     },
     "metadata": {},
     "output_type": "display_data"
    }
   ],
   "source": [
    "points = np.linspace(-10, 10, 50)\n",
    "probs = sc.norm.pdf(points, loc=0, scale=2)\n",
    "toyplot.fill(points, probs, height=250, width=400, opacity=0.7);"
   ]
  },
  {
   "cell_type": "markdown",
   "metadata": {},
   "source": [
    "### Optimization\n",
    "\n",
    "Maximum likelihood optimization is a statistical method for finding the best fitting set of parameters for a model. To maximize a function the function must be written to describe an equation called a `likelihood function`. As discussed in lecture, this can be a probability statement, where the product of many independent probabilities is expected to be normally distributed; or it can be a function measuring the deviation of observed from expected values, which can be calculated using the summed square error. Both of these rely on the central limit theorem which states that the normalized sum of many independent random variates will tend towards a normal distribution. "
   ]
  },
  {
   "cell_type": "markdown",
   "metadata": {},
   "source": [
    "### Example\n",
    "We've already seen a coin-flip example (See notebook 10.4) where we wrote a likelihood function to define the probability of success or failure and thus calculated the likelihood as the product of independent probability statements. Here we will look at other ways of writing likelihood functions that does not rely explicitly on defining probability statements. We'll continue to use coin flips as our example data. \n"
   ]
  },
  {
   "cell_type": "markdown",
   "metadata": {},
   "source": [
    "Here, we will focus on the expectations that (1) the mean result of many independent random variates in their normalized sum (mean); and (2) that the distribution of many random variates should be normally distributed. The two likelihood functions below each use one of these criteria to correctly infer the probability of an unfair coin based on observed data drawn from a normal distribution with a mean of 0.75. "
   ]
  },
  {
   "cell_type": "code",
   "execution_count": 17,
   "metadata": {},
   "outputs": [],
   "source": [
    "# the observed data with mean=0.75\n",
    "loc = 0.75\n",
    "observed = np.random.normal(loc=loc, scale=0.5, size=10000)"
   ]
  },
  {
   "cell_type": "markdown",
   "metadata": {},
   "source": [
    "This likelihood function returns the mean-squared-error of binomial distributed random variates compared to the observed data. In other words, we expect the *errors* of the random draws to converge on the mean of a random normal distribution. So to find the optimum parameter of the binomial distribution we need to minimize the squared error. "
   ]
  },
  {
   "cell_type": "code",
   "execution_count": 18,
   "metadata": {},
   "outputs": [],
   "source": [
    "# a likelihood function \n",
    "def fit_binomial_model(p, observed):\n",
    "    \"calculates the mean squared error of draws versus normal\"\n",
    "    arr = np.random.binomial(1, p, 10000)\n",
    "    diff = np.mean(arr - observed)\n",
    "    return diff**2\n",
    "    "
   ]
  },
  {
   "cell_type": "markdown",
   "metadata": {},
   "source": [
    "This likelihood function takes a similar approach, but does it differently. We know the mean of the binomial random variates should match the mean of a normal distribution with the same mean. Therefore, we simply return the PDF of the binomial samples mean. To find the optimum we return a negative since the functions find the minimal value. "
   ]
  },
  {
   "cell_type": "code",
   "execution_count": 19,
   "metadata": {},
   "outputs": [],
   "source": [
    "def fit_binomial_pdf(p, loc):\n",
    "    \"return pdf of the mean of draws\"\n",
    "    arr = np.random.binomial(1, p, 10000)\n",
    "    return -sc.norm.pdf(arr.mean(), loc=loc, scale=0.5)"
   ]
  },
  {
   "cell_type": "markdown",
   "metadata": {},
   "source": [
    "### Results \n",
    "Both likelihood functions return the correct result (they both estimate the parameter of the binomial distribution to be 0.75). The first function found this based on data drawn randomly from distributions using numpy (the observed variable), whereas the second function used scipy to calculate the PDF given the loc parameter of the PDF was set to 0.75. "
   ]
  },
  {
   "cell_type": "code",
   "execution_count": 20,
   "metadata": {},
   "outputs": [
    {
     "name": "stdout",
     "output_type": "stream",
     "text": [
      "Optimization terminated successfully.\n",
      "         Current function value: 0.000000\n",
      "         Iterations: 14\n",
      "         Function evaluations: 31\n"
     ]
    },
    {
     "data": {
      "text/plain": [
       "array([ 0.7390625])"
      ]
     },
     "execution_count": 20,
     "metadata": {},
     "output_type": "execute_result"
    }
   ],
   "source": [
    "# starting value=0.5; observed flips = (50, 50)\n",
    "so.fmin(fit_binomial_model, x0=[0.5], args=(observed,))"
   ]
  },
  {
   "cell_type": "code",
   "execution_count": 21,
   "metadata": {},
   "outputs": [
    {
     "name": "stdout",
     "output_type": "stream",
     "text": [
      "Optimization terminated successfully.\n",
      "         Current function value: -0.797884\n",
      "         Iterations: 16\n",
      "         Function evaluations: 36\n"
     ]
    },
    {
     "data": {
      "text/plain": [
       "array([ 0.7484375])"
      ]
     },
     "execution_count": 21,
     "metadata": {},
     "output_type": "execute_result"
    }
   ],
   "source": [
    "# starting value=0.5; observed flips = (50, 50)\n",
    "so.fmin(fit_binomial_pdf, x0=[0.5], args=(loc,))"
   ]
  }
 ],
 "metadata": {
  "kernelspec": {
   "display_name": "Python 3",
   "language": "python",
   "name": "python3"
  },
  "language_info": {
   "codemirror_mode": {
    "name": "ipython",
    "version": 3
   },
   "file_extension": ".py",
   "mimetype": "text/x-python",
   "name": "python",
   "nbconvert_exporter": "python",
   "pygments_lexer": "ipython3",
   "version": "3.5.4"
  }
 },
 "nbformat": 4,
 "nbformat_minor": 2
}
